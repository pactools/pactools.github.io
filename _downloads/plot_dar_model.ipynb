{
  "metadata": {
    "language_info": {
      "name": "python",
      "version": "3.5.2",
      "codemirror_mode": {
        "name": "ipython",
        "version": 3
      },
      "file_extension": ".py",
      "mimetype": "text/x-python",
      "nbconvert_exporter": "python",
      "pygments_lexer": "ipython3"
    },
    "kernelspec": {
      "display_name": "Python 3",
      "name": "python3",
      "language": "python"
    }
  },
  "nbformat": 4,
  "cells": [
    {
      "source": [
        "%matplotlib inline"
      ],
      "execution_count": null,
      "cell_type": "code",
      "outputs": [],
      "metadata": {
        "collapsed": false
      }
    },
    {
      "source": [
        "\nExample of fitting a DAR model\n------------------------------\nThis example creates an artificial signal with phase-amplitude coupling (PAC),\nfits a DAR model and show the modulation extracted in the DAR model.\n\nIt also shows the comodulogram computed with a DAR model.\n\n"
      ],
      "cell_type": "markdown",
      "metadata": {}
    },
    {
      "source": [
        "import numpy as np\nimport matplotlib.pyplot as plt\n\nfrom pactools import Comodulogram\nfrom pactools import create_signal\nfrom pactools.dar_model import DAR, extract_driver\n\nfs = 200.  # Hz\nhigh_fq = 50.0  # Hz\nlow_fq = 5.0  # Hz\nlow_fq_width = 1.0  # Hz\n\nn_points = 10000\nnoise_level = 0.4\nt_plot = 2.0  # sec\n\n# Create the artificial signal with PAC\nsignal = create_signal(n_points=n_points, fs=fs, high_fq=high_fq,\n                       low_fq=low_fq, low_fq_width=low_fq_width,\n                       noise_level=noise_level, random_state=0)\n\n# Prepare the plot for the two figures\nfig, axs = plt.subplots(1, 3, figsize=(14, 4))\naxs = axs.ravel()\n\n# Extract a low frequency band and fit a DAR model\nsigdriv, sigin, sigdriv_imag = extract_driver(\n    sigs=signal, fs=fs, low_fq=low_fq, bandwidth=low_fq_width,\n    extract_complex=True, random_state=0, fill=2)\n\n# Here we use BIC selection to get optimal hyperparameters (ordar, ordriv)\ndar = DAR(ordar=20, ordriv=2, criterion='bic')\ndar.fit(sigin=sigin, sigdriv=sigdriv, sigdriv_imag=sigdriv_imag, fs=fs)\nbic_array = dar.model_selection_criterions_['bic']\nlines = axs[0].plot(bic_array)\naxs[0].legend(lines, ['ordriv=%d' % d for d in [0, 1, 2]])\naxs[0].set_xlabel('ordar')\naxs[0].set_ylabel('BIC / T')\naxs[0].set_title('BIC order selection')\naxs[0].plot(dar.ordar_, bic_array[dar.ordar_, dar.ordriv_], 'ro')\n\n#\u00a0Plot the modulation extracted by the optimal model\ndar.plot(ax=axs[1])\naxs[1].set_title(dar.get_title(name=True))\n\n# Compute the comodulogram: It handles the driver extraction for a range\n# of low frequency, fit a model, and quantify PAC accross the spectrum.\nlow_fq_range = np.linspace(1, 10, 50)\nestimator = Comodulogram(fs=fs, low_fq_range=low_fq_range,\n                         low_fq_width=low_fq_width, method=dar,\n                         progress_bar=False, random_state=0)\nestimator.fit(signal)\nestimator.plot(axs=[axs[2]])\naxs[2].set_title('Comodulogram')\n\nplt.show()"
      ],
      "execution_count": null,
      "cell_type": "code",
      "outputs": [],
      "metadata": {
        "collapsed": false
      }
    }
  ],
  "nbformat_minor": 0
}