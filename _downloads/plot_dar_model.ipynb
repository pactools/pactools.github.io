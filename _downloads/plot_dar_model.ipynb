{
  "nbformat": 4,
  "cells": [
    {
      "source": [
        "%matplotlib inline"
      ],
      "execution_count": null,
      "metadata": {
        "collapsed": false
      },
      "outputs": [],
      "cell_type": "code"
    },
    {
      "source": [
        "\nFitting a DAR model\n-------------------\nThis example creates an artificial signal with phase-amplitude coupling (PAC),\nfits a DAR model and show the modulation extracted in the DAR model.\n\nIt also shows the comodulogram computed with a DAR model.\n\n"
      ],
      "metadata": {},
      "cell_type": "markdown"
    },
    {
      "source": [
        "import numpy as np\nimport matplotlib.pyplot as plt\n\nfrom pactools import Comodulogram\nfrom pactools import simulate_pac\nfrom pactools.dar_model import DAR, extract_driver"
      ],
      "execution_count": null,
      "metadata": {
        "collapsed": false
      },
      "outputs": [],
      "cell_type": "code"
    },
    {
      "source": [
        "Create the artificial signal with PAC\n\n"
      ],
      "metadata": {},
      "cell_type": "markdown"
    },
    {
      "source": [
        "fs = 200.  # Hz\nhigh_fq = 50.0  # Hz\nlow_fq = 5.0  # Hz\nlow_fq_width = 1.0  # Hz\n\nn_points = 10000\nnoise_level = 0.4\nt_plot = 2.0  # sec\n\nsignal = simulate_pac(n_points=n_points, fs=fs, high_fq=high_fq, low_fq=low_fq,\n                      low_fq_width=low_fq_width, noise_level=noise_level,\n                      random_state=0)"
      ],
      "execution_count": null,
      "metadata": {
        "collapsed": false
      },
      "outputs": [],
      "cell_type": "code"
    },
    {
      "source": [
        "Extract a low-frequency band, and fit a DAR model, using BIC order selection.\n\n"
      ],
      "metadata": {},
      "cell_type": "markdown"
    },
    {
      "source": [
        "# Prepare the plot for the two figures\nfig, axs = plt.subplots(1, 2, figsize=(10, 4))\naxs = axs.ravel()\n\n# Extract a low frequency band\nsigdriv, sigin, sigdriv_imag = extract_driver(\n    sigs=signal, fs=fs, low_fq=low_fq, bandwidth=low_fq_width,\n    extract_complex=True, random_state=0, fill=2)\n\n# Create a DAR model\n# Here we use BIC selection to get optimal hyperparameters (ordar, ordriv)\ndar = DAR(ordar=20, ordriv=2, criterion='bic')\n# Fit the DAR model\ndar.fit(sigin=sigin, sigdriv=sigdriv, sigdriv_imag=sigdriv_imag, fs=fs)\n\n# Plot the BIC selection\nbic_array = dar.model_selection_criterions_['bic']\nlines = axs[0].plot(bic_array)\naxs[0].legend(lines, ['ordriv=%d' % d for d in [0, 1, 2]])\naxs[0].set_xlabel('ordar')\naxs[0].set_ylabel('BIC / T')\naxs[0].set_title('BIC order selection')\naxs[0].plot(dar.ordar_, bic_array[dar.ordar_, dar.ordriv_], 'ro')\n\n# Plot the modulation extracted by the optimal model\ndar.plot(ax=axs[1])\naxs[1].set_title(dar.get_title(name=True))"
      ],
      "execution_count": null,
      "metadata": {
        "collapsed": false
      },
      "outputs": [],
      "cell_type": "code"
    },
    {
      "source": [
        "To compute a comodulogram, we perform the same steps for each low frequency:\n * Extract the low frequency\n\u00a0* Fit a DAR model\n\u00a0* Potentially with a model selection using the BIC\n * And quantify the PAC accross the spectrum.\n\n Everything is handled by the class :class:`~pactools.Comodulogram`, by giving\n a (non-fitted) DAR model in the parameter ``method``.\n Giving ``method='duprelatour'`` will default to\n ``DAR(ordar=10, ordriv=1, criterion=None)``, without BIC selection.\n\n"
      ],
      "metadata": {},
      "cell_type": "markdown"
    },
    {
      "source": [
        "# Here we do not give the default set of parameter. Note that the BIC selection\n# will be performed independantly for each model (i.e. at each low frequency).\ndar = DAR(ordar=20, ordriv=2, criterion='bic')\nlow_fq_range = np.linspace(1, 10, 50)\nestimator = Comodulogram(fs=fs, low_fq_range=low_fq_range,\n                         low_fq_width=low_fq_width, method=dar,\n                         progress_bar=False, random_state=0)\nfig, ax = plt.subplots(1, 1, figsize=(6, 4))\nestimator.fit(signal)\nestimator.plot(axs=[ax])\nax.set_title('Comodulogram')\n\nplt.show()"
      ],
      "execution_count": null,
      "metadata": {
        "collapsed": false
      },
      "outputs": [],
      "cell_type": "code"
    }
  ],
  "metadata": {
    "language_info": {
      "pygments_lexer": "ipython3",
      "nbconvert_exporter": "python",
      "version": "3.5.2",
      "mimetype": "text/x-python",
      "name": "python",
      "codemirror_mode": {
        "name": "ipython",
        "version": 3
      },
      "file_extension": ".py"
    },
    "kernelspec": {
      "name": "python3",
      "language": "python",
      "display_name": "Python 3"
    }
  },
  "nbformat_minor": 0
}