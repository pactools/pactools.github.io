{
  "nbformat": 4,
  "cells": [
    {
      "source": [
        "%matplotlib inline"
      ],
      "metadata": {
        "collapsed": false
      },
      "cell_type": "code",
      "outputs": [],
      "execution_count": null
    },
    {
      "source": [
        "\nFitting a DAR model\n-------------------\nThis example creates an artificial signal with phase-amplitude coupling (PAC),\nfits a DAR model and show the modulation extracted in the DAR model.\n\nIt also shows the comodulogram computed with a DAR model.\n\n"
      ],
      "cell_type": "markdown",
      "metadata": {}
    },
    {
      "source": [
        "import numpy as np\nimport matplotlib.pyplot as plt\n\nfrom pactools import Comodulogram\nfrom pactools import simulate_pac\nfrom pactools.dar_model import DAR, extract_driver\n\nfs = 200.  # Hz\nhigh_fq = 50.0  # Hz\nlow_fq = 5.0  # Hz\nlow_fq_width = 1.0  # Hz\n\nn_points = 10000\nnoise_level = 0.4\nt_plot = 2.0  # sec\n\n# Create the artificial signal with PAC\nsignal = simulate_pac(n_points=n_points, fs=fs, high_fq=high_fq, low_fq=low_fq,\n                      low_fq_width=low_fq_width, noise_level=noise_level,\n                      random_state=0)"
      ],
      "metadata": {
        "collapsed": false
      },
      "cell_type": "code",
      "outputs": [],
      "execution_count": null
    },
    {
      "source": [
        "Prepare the plot for the three figures\n\n"
      ],
      "cell_type": "markdown",
      "metadata": {}
    },
    {
      "source": [
        "fig, axs = plt.subplots(1, 3, figsize=(14, 4))\naxs = axs.ravel()\n\n# Extract a low frequency band\nsigdriv, sigin, sigdriv_imag = extract_driver(\n    sigs=signal, fs=fs, low_fq=low_fq, bandwidth=low_fq_width,\n    extract_complex=True, random_state=0, fill=2)\n\n#\u00a0Create a DAR model\n# Here we use BIC selection to get optimal hyperparameters (ordar, ordriv)\ndar = DAR(ordar=20, ordriv=2, criterion='bic')\n#\u00a0Fit the DAR model\ndar.fit(sigin=sigin, sigdriv=sigdriv, sigdriv_imag=sigdriv_imag, fs=fs)\n\n# Plot the BIC selection\nbic_array = dar.model_selection_criterions_['bic']\nlines = axs[0].plot(bic_array)\naxs[0].legend(lines, ['ordriv=%d' % d for d in [0, 1, 2]])\naxs[0].set_xlabel('ordar')\naxs[0].set_ylabel('BIC / T')\naxs[0].set_title('BIC order selection')\naxs[0].plot(dar.ordar_, bic_array[dar.ordar_, dar.ordriv_], 'ro')\n\n# Plot the modulation extracted by the optimal model\ndar.plot(ax=axs[1])\naxs[1].set_title(dar.get_title(name=True))"
      ],
      "metadata": {
        "collapsed": false
      },
      "cell_type": "code",
      "outputs": [],
      "execution_count": null
    },
    {
      "source": [
        "To compute a comodulogram, we need to perform the same steps for each\nlow frequency: extract the low frequency, fit a DAR model, potentially with\na model selection with the BIC, and quantify the PAC accross the spectrum.\n\nEverything is handled by the function ``Comodulogram``, by giving a\n(non-fitted) DAR model in the parameter ``method``.\nGiving ``method='duprelatour'`` will default to\n``DAR(ordar=10, ordriv=1, criterion=None)``, without BIC selection.\n\n"
      ],
      "cell_type": "markdown",
      "metadata": {}
    },
    {
      "source": [
        "# Here we give a different set of parameter, and the BIC selection will be\n# performed independantly for each model (i.e. at each low frequency).\ndar = DAR(ordar=20, ordriv=2, criterion='bic')\nlow_fq_range = np.linspace(1, 10, 50)\nestimator = Comodulogram(fs=fs, low_fq_range=low_fq_range,\n                         low_fq_width=low_fq_width, method=dar,\n                         progress_bar=False, random_state=0)\nestimator.fit(signal)\nestimator.plot(axs=[axs[2]])\naxs[2].set_title('Comodulogram')\n\nplt.show()"
      ],
      "metadata": {
        "collapsed": false
      },
      "cell_type": "code",
      "outputs": [],
      "execution_count": null
    }
  ],
  "nbformat_minor": 0,
  "metadata": {
    "kernelspec": {
      "language": "python",
      "name": "python3",
      "display_name": "Python 3"
    },
    "language_info": {
      "mimetype": "text/x-python",
      "pygments_lexer": "ipython3",
      "codemirror_mode": {
        "name": "ipython",
        "version": 3
      },
      "nbconvert_exporter": "python",
      "name": "python",
      "file_extension": ".py",
      "version": "3.5.2"
    }
  }
}