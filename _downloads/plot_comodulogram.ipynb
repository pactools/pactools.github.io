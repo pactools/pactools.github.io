{
  "nbformat": 4,
  "nbformat_minor": 0,
  "metadata": {
    "kernelspec": {
      "name": "python3",
      "display_name": "Python 3",
      "language": "python"
    },
    "language_info": {
      "pygments_lexer": "ipython3",
      "mimetype": "text/x-python",
      "codemirror_mode": {
        "name": "ipython",
        "version": 3
      },
      "file_extension": ".py",
      "nbconvert_exporter": "python",
      "name": "python",
      "version": "3.5.2"
    }
  },
  "cells": [
    {
      "source": [
        "%matplotlib inline"
      ],
      "cell_type": "code",
      "metadata": {
        "collapsed": false
      },
      "outputs": [],
      "execution_count": null
    },
    {
      "source": [
        "\nExample of comodulogram\n-----------------------\nThis example creates an artificial signal with phase-amplitude coupling (PAC)\nand computes comodulograms with several methods.\n\nA comodulogram shows the estimated PAC metric on a grid of frequency bands.\n\n"
      ],
      "cell_type": "markdown",
      "metadata": {}
    },
    {
      "source": [
        "import numpy as np\nimport matplotlib.pyplot as plt\n\nfrom pactools import Comodulogram, REFERENCES\nfrom pactools import create_signal\n\nfs = 200.  # Hz\nhigh_fq = 50.0  # Hz\nlow_fq = 5.0  # Hz\nlow_fq_width = 1.0  # Hz\n\nn_points = 10000\nnoise_level = 0.4\nt_plot = 2.0  # sec\n\nsignal = create_signal(n_points=n_points, fs=fs, high_fq=high_fq,\n                       low_fq=low_fq, low_fq_width=low_fq_width,\n                       noise_level=noise_level, random_state=0)\n\nlow_fq_range = np.linspace(1, 10, 50)\nmethods = ['ozkurt', 'canolty', 'tort', 'penny', 'vanwijk', 'duprelatour',\n           'colgin', 'sigl', 'bispectrum']\n\nn_lines = 3\nn_columns = int(np.ceil(len(methods) / float(n_lines)))\nfig, axs = plt.subplots(n_lines, n_columns, figsize=(4 * n_columns,\n                                                     3 * n_lines))\naxs = axs.ravel()\n\nfor ax, method in zip(axs, methods):\n    print('%s... ' % (method, ))\n    estimator = Comodulogram(fs=fs, low_fq_range=low_fq_range,\n                             low_fq_width=low_fq_width, method=method,\n                             progress_bar=False)\n    estimator.fit(signal)\n    estimator.plot(titles=[REFERENCES[method]], axs=[ax])\n\nplt.show()"
      ],
      "cell_type": "code",
      "metadata": {
        "collapsed": false
      },
      "outputs": [],
      "execution_count": null
    }
  ]
}