{
  "nbformat_minor": 0,
  "nbformat": 4,
  "metadata": {
    "language_info": {
      "pygments_lexer": "ipython3",
      "codemirror_mode": {
        "version": 3,
        "name": "ipython"
      },
      "name": "python",
      "mimetype": "text/x-python",
      "file_extension": ".py",
      "version": "3.5.2",
      "nbconvert_exporter": "python"
    },
    "kernelspec": {
      "name": "python3",
      "language": "python",
      "display_name": "Python 3"
    }
  },
  "cells": [
    {
      "outputs": [],
      "source": [
        "%matplotlib inline"
      ],
      "execution_count": null,
      "metadata": {
        "collapsed": false
      },
      "cell_type": "code"
    },
    {
      "source": [
        "\nComodulogram\n------------\nThis example creates an artificial signal with phase-amplitude coupling (PAC)\nand computes comodulograms with several methods.\n\nA comodulogram shows the estimated PAC metric on a grid of frequency bands.\n\n"
      ],
      "metadata": {},
      "cell_type": "markdown"
    },
    {
      "outputs": [],
      "source": [
        "import numpy as np\nimport matplotlib.pyplot as plt\n\nfrom pactools import Comodulogram, REFERENCES\nfrom pactools import simulate_pac\n\nfs = 200.  # Hz\nhigh_fq = 50.0  # Hz\nlow_fq = 5.0  # Hz\nlow_fq_width = 1.0  # Hz\n\nn_points = 10000\nnoise_level = 0.4\nt_plot = 2.0  # sec\n\nsignal = simulate_pac(n_points=n_points, fs=fs, high_fq=high_fq, low_fq=low_fq,\n                      low_fq_width=low_fq_width, noise_level=noise_level,\n                      random_state=0)\n\nlow_fq_range = np.linspace(1, 10, 50)\nmethods = [\n    'ozkurt', 'canolty', 'tort', 'penny', 'vanwijk', 'duprelatour', 'colgin',\n    'sigl', 'bispectrum'\n]\n\nn_lines = 3\nn_columns = int(np.ceil(len(methods) / float(n_lines)))\nfig, axs = plt.subplots(n_lines, n_columns, figsize=(4 * n_columns,\n                                                     3 * n_lines))\naxs = axs.ravel()\n\nfor ax, method in zip(axs, methods):\n    print('%s... ' % (method, ))\n    estimator = Comodulogram(fs=fs, low_fq_range=low_fq_range,\n                             low_fq_width=low_fq_width, method=method,\n                             progress_bar=False)\n    estimator.fit(signal)\n    estimator.plot(titles=[REFERENCES[method]], axs=[ax])\n\nplt.show()"
      ],
      "execution_count": null,
      "metadata": {
        "collapsed": false
      },
      "cell_type": "code"
    }
  ]
}