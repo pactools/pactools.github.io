{
  "cells": [
    {
      "cell_type": "code",
      "execution_count": null,
      "metadata": {
        "collapsed": false
      },
      "outputs": [],
      "source": [
        "%matplotlib inline"
      ]
    },
    {
      "cell_type": "markdown",
      "metadata": {},
      "source": [
        "\nSpurious PAC with spikes\n------------------------\n\nThis example demonstrates how a spike train can generate a significant amount\nof phase-amplitude coupling (PAC), even though there is no nested oscillations.\nThis phenomenon is usually referred as spurious PAC.\n\nReferences\n==========\nDupre la Tour et al. (2017). Non-linear Auto-Regressive Models for\nCross-Frequency Coupling in Neural Time Series. bioRxiv, 159731.\n\n"
      ]
    },
    {
      "cell_type": "code",
      "execution_count": null,
      "metadata": {
        "collapsed": false
      },
      "outputs": [],
      "source": [
        "import numpy as np\nimport matplotlib.pyplot as plt\nimport scipy.signal\n\nfrom pactools import Comodulogram, REFERENCES\nfrom pactools.utils.pink_noise import pink_noise\nfrom pactools.utils.validation import check_random_state\n\n\ndef simulate_spurious_pac(n_points, fs, spike_amp=1.5, spike_fwhm=0.01,\n                          spike_fq=10., spike_interval_jitter=0.2,\n                          random_state=None):\n    \"\"\"Simulate some spurious phase-amplitude coupling (PAC) with spikes\n\n    References\n    ----------\n    Gerber, E. M., Sadeh, B., Ward, A., Knight, R. T., & Deouell, L. Y. (2016).\n    Non-sinusoidal activity can produce cross-frequency coupling in cortical\n    signals in the absence of functional interaction between neural sources.\n    PloS one, 11(12), e0167351\n    \"\"\"\n    n_points = int(n_points)\n    fs = float(fs)\n    rng = check_random_state(random_state)\n\n    # draw the position of the spikes\n    interval_min = 1. / float(spike_fq) * (1. - spike_interval_jitter)\n    interval_max = 1. / float(spike_fq) * (1. + spike_interval_jitter)\n    n_spikes_max = np.int(n_points / fs / interval_min)\n    spike_intervals = rng.uniform(low=interval_min, high=interval_max,\n                                  size=n_spikes_max)\n    spike_positions = np.cumsum(np.int_(spike_intervals * fs))\n    spike_positions = spike_positions[spike_positions < n_points]\n\n    # build the spike time series, using a convolution\n    spikes = np.zeros(n_points)\n    spikes[spike_positions] = spike_amp\n    # full width at half maximum to standard deviation convertion\n    spike_std = spike_fwhm / (2 * np.sqrt(2 * np.log(2)))\n    spike_shape = scipy.signal.gaussian(M=np.int(spike_std * fs * 10),\n                                        std=spike_std * fs)\n    spikes = scipy.signal.fftconvolve(spikes, spike_shape, mode='same')\n\n    noise = pink_noise(n_points, slope=1.)\n\n    return spikes + noise, spikes"
      ]
    },
    {
      "cell_type": "markdown",
      "metadata": {},
      "source": [
        "Let's generate the spurious PAC signal\n\n"
      ]
    },
    {
      "cell_type": "code",
      "execution_count": null,
      "metadata": {
        "collapsed": false
      },
      "outputs": [],
      "source": [
        "fs = 1000.  # Hz\nn_points = 60000\nspike_amp = 1.5\nrandom_state = 0\n\n# generate the signal\nsignal, spikes = simulate_spurious_pac(\n    n_points=n_points, fs=fs, random_state=random_state, spike_amp=spike_amp)\n\n# plot the signal and the spikes\nn_points_plot = np.int(1. * fs)\ntime = np.arange(n_points_plot) / fs\nfig, axs = plt.subplots(nrows=2, figsize=(10, 6), sharex=True)\naxs[0].plot(time, signal[:n_points_plot], color='C0')\naxs[0].set(title='spikes + pink noise')\naxs[1].plot(time, spikes[:n_points_plot], color='C1')\naxs[1].set(xlabel='Time (sec)', title='spikes')\nplt.show()"
      ]
    },
    {
      "cell_type": "markdown",
      "metadata": {},
      "source": [
        "Compute the comodulograms\n\n"
      ]
    },
    {
      "cell_type": "code",
      "execution_count": null,
      "metadata": {
        "collapsed": false
      },
      "outputs": [],
      "source": [
        "methods = ['ozkurt', 'penny', 'tort', 'duprelatour']\nlow_fq_range = np.linspace(1., 20., 60)\nhigh_fq_range = np.linspace(low_fq_range[-1], 100., 60)\nlow_fq_width = 4.  # Hz\n\n# A good rule of thumb is n_surrogates = 10 / p_value. Example: 10 / 0.05 = 200\n# Here we use 10 to be fast\nn_surrogates = 10\np_value = 0.05\nn_jobs = 11\n\n# prepare the plot axes\nn_lines = 2\nn_columns = int(np.ceil(len(methods) / float(n_lines)))\nfigsize = (4 * n_columns, 3 * n_lines)\nfig, axs = plt.subplots(nrows=n_lines, ncols=n_columns, figsize=figsize)\naxs = axs.ravel()\n\nfor ax, method in zip(axs, methods):\n    # compute the comodulograms\n    estimator = Comodulogram(fs=fs, low_fq_range=low_fq_range,\n                             high_fq_range=high_fq_range,\n                             low_fq_width=low_fq_width, method=method,\n                             n_surrogates=n_surrogates, n_jobs=n_jobs)\n    estimator.fit(signal)\n\n    # plot the comodulogram with contour levels\n    estimator.plot(contour_method='comod_max', contour_level=p_value, axs=[ax],\n                   titles=[REFERENCES[method]])\n\nfig.tight_layout()\nplt.show()"
      ]
    }
  ],
  "metadata": {
    "kernelspec": {
      "display_name": "Python 3",
      "language": "python",
      "name": "python3"
    },
    "language_info": {
      "codemirror_mode": {
        "name": "ipython",
        "version": 3
      },
      "file_extension": ".py",
      "mimetype": "text/x-python",
      "name": "python",
      "nbconvert_exporter": "python",
      "pygments_lexer": "ipython3",
      "version": "3.6.2"
    }
  },
  "nbformat": 4,
  "nbformat_minor": 0
}