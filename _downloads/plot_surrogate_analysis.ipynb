{
  "cells": [
    {
      "cell_type": "code",
      "execution_count": null,
      "metadata": {
        "collapsed": false
      },
      "outputs": [],
      "source": [
        "%matplotlib inline"
      ]
    },
    {
      "cell_type": "markdown",
      "metadata": {},
      "source": [
        "\nSurrogate analysis\n------------------\nThis example shows how to estimate a significance threshold in a comodulogram.\n\nA comodulogram shows the estimated PAC metric on a grid of frequency bands.\nIn absence of PAC, a PAC metric will return values close to zero, but not\nexactly zero. To estimate if a value is significantly far from zero, we use a\nsurrogate analysis.\n\nIn a surrogate analysis, we recompute the comodulogram many times, adding each\ntime a random time shift to remove any possible coupling between the\ncomponents. Nota that these time shifts have to be far from zero to effectively\nremove a potential coupling. These comodulograms give us an estimation of the\nfluctuation of the metric in the absence of PAC.\n\nTo derive a significance level from the list of comodulograms, we discuss here\ntwo different methods:\n- Computing a z-score on each couple of frequency, and thresholding at z = 4.\n- Computing a threshold at a given p-value, over a distribution of comodulogram\nmaxima.\n\n"
      ]
    },
    {
      "cell_type": "code",
      "execution_count": null,
      "metadata": {
        "collapsed": false
      },
      "outputs": [],
      "source": [
        "import numpy as np\nimport matplotlib.pyplot as plt\n\nfrom pactools import Comodulogram\nfrom pactools import simulate_pac"
      ]
    },
    {
      "cell_type": "markdown",
      "metadata": {},
      "source": [
        "Let's first create an artificial signal with PAC.\n\n"
      ]
    },
    {
      "cell_type": "code",
      "execution_count": null,
      "metadata": {
        "collapsed": false
      },
      "outputs": [],
      "source": [
        "fs = 200.  # Hz\nhigh_fq = 50.0  # Hz\nlow_fq = 5.0  # Hz\nlow_fq_width = 1.0  # Hz\n\nn_points = 1000\nnoise_level = 0.4\n\nsignal = simulate_pac(n_points=n_points, fs=fs, high_fq=high_fq, low_fq=low_fq,\n                      low_fq_width=low_fq_width, noise_level=noise_level,\n                      random_state=0)"
      ]
    },
    {
      "cell_type": "markdown",
      "metadata": {},
      "source": [
        "Then, let's define the range of low frequency, and the PAC metric used.\n\n"
      ]
    },
    {
      "cell_type": "code",
      "execution_count": null,
      "metadata": {
        "collapsed": false
      },
      "outputs": [],
      "source": [
        "low_fq_range = np.linspace(1, 10, 50)\nmethod = 'duprelatour'  #\u00a0or 'tort', 'ozkurt', 'penny', 'colgin', ..."
      ]
    },
    {
      "cell_type": "markdown",
      "metadata": {},
      "source": [
        "We also choose the number of comodulograms computed in the surrogate\n\u00a0analysis. A good rule of thumb is 10 / p_value. Example: 10 / 0.05 = 200.\n\n"
      ]
    },
    {
      "cell_type": "code",
      "execution_count": null,
      "metadata": {
        "collapsed": false
      },
      "outputs": [],
      "source": [
        "n_surrogates = 200"
      ]
    },
    {
      "cell_type": "markdown",
      "metadata": {},
      "source": [
        "As a surrogate analysis recquires to compute many comodulograms, the\n\u00a0computation can be slow. If you have multiple cores in your CPU, you can\n\u00a0leverage them using the parameter `n_jobs` > 1.\n\n"
      ]
    },
    {
      "cell_type": "code",
      "execution_count": null,
      "metadata": {
        "collapsed": false
      },
      "outputs": [],
      "source": [
        "n_jobs = 1"
      ]
    },
    {
      "cell_type": "markdown",
      "metadata": {},
      "source": [
        "To compute the comodulogram, we need to instanciate a `Comodulogram` object,\nthen call the method `fit`. Adding the surrogate analysis is as simple as\nadding the `n_surrogates` parameter.\n\n"
      ]
    },
    {
      "cell_type": "code",
      "execution_count": null,
      "metadata": {
        "collapsed": false
      },
      "outputs": [],
      "source": [
        "estimator = Comodulogram(fs=fs, low_fq_range=low_fq_range,\n                         low_fq_width=low_fq_width, method=method,\n                         n_surrogates=n_surrogates, progress_bar=True,\n                         n_jobs=n_jobs)\nestimator.fit(signal)"
      ]
    },
    {
      "cell_type": "markdown",
      "metadata": {},
      "source": [
        "Then we plot the significance level on top of the comodulogram.\n\u00a0Here we present two methods.\n\n\u00a0The z-score method presented here considers independently each pair of\n frequency of the comodulogram. For each pair, we compute the mean `mu` and\n standard deviation `sigma` of the PAC values computed over the surrogates\n signals. We then transform the original PAC values `PAC` (non time-shifted)\n into z-scores `Z`: Z = (PAC - mu) / sigma\n\n This procedure, used for example in [Canolty et al, 2006], suffers from\n multiple-testing issues, and also assumes that the distribution of PAC values\n is Gaussian.\n\n\n\u00a0The other method presented here considers the ditribution of comodulogram\n maxima. For each surrogate comodulogram, we compute the maximum PAC value.\n From the obtained empirical distribution of maxima, we compute the\n\u00a095-percentile, which corresponds to a p-value of 0.05.\n\n This method does not assume the distribution to be Gaussian, nor suffers from\n multiple-testing issues. This is the default method in the `plot` method.\n\n"
      ]
    },
    {
      "cell_type": "code",
      "execution_count": null,
      "metadata": {
        "collapsed": false
      },
      "outputs": [],
      "source": [
        "fig, axs = plt.subplots(1, 2, figsize=(10, 4))\n\nz_score = 4.\nestimator.plot(contour_method='z_score', contour_level=z_score,\n               titles=['With a z-score on each couple of frequency'],\n               axs=[axs[0]])\n\np_value = 0.05\nestimator.plot(contour_method='comod_max', contour_level=p_value,\n               titles=['With a p-value on the distribution of maxima'],\n               axs=[axs[1]])\n\nplt.show()"
      ]
    },
    {
      "cell_type": "markdown",
      "metadata": {},
      "source": [
        "References\n\n[Canolty et al, 2006]\nCanolty, R. T., Edwards, E., Dalal, S. S., Soltani, M., Nagarajan,\nS. S., Kirsch, H. E., ... & Knight, R. T. (2006). High gamma power is\nphase-locked to theta oscillations in human neocortex. science,\n313(5793), 1626-1628.\n\n"
      ]
    }
  ],
  "metadata": {
    "kernelspec": {
      "display_name": "Python 3",
      "language": "python",
      "name": "python3"
    },
    "language_info": {
      "codemirror_mode": {
        "name": "ipython",
        "version": 3
      },
      "file_extension": ".py",
      "mimetype": "text/x-python",
      "name": "python",
      "nbconvert_exporter": "python",
      "pygments_lexer": "ipython3",
      "version": "3.6.2"
    }
  },
  "nbformat": 4,
  "nbformat_minor": 0
}