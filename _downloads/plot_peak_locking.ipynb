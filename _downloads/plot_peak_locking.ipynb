{
  "nbformat": 4,
  "cells": [
    {
      "outputs": [],
      "source": [
        "%matplotlib inline"
      ],
      "execution_count": null,
      "metadata": {
        "collapsed": false
      },
      "cell_type": "code"
    },
    {
      "source": [
        "\nExample of peak-locking\n-----------------------\nThe peaks are extracted from the low frequency band, then both the raw-signal\nand a time-frequency representation are peak-locked and averaged.\n\nNote the effect of the bandwidth `low_fq_width` on the number of\noscillations in the results.\n\n"
      ],
      "metadata": {},
      "cell_type": "markdown"
    },
    {
      "outputs": [],
      "source": [
        "import matplotlib.pyplot as plt\n\nfrom pactools import PeakLocking\nfrom pactools import create_signal\n\nfs = 200.  # Hz\nhigh_fq = 50.0  # Hz\nlow_fq = 3.0  # Hz\nlow_fq_width = 2.0  # Hz\n\nn_points = 10000\nnoise_level = 0.4\nt_plot = 2.0  # sec\n\nsignal = create_signal(n_points=n_points, fs=fs, high_fq=high_fq,\n                       low_fq=low_fq, low_fq_width=low_fq_width,\n                       noise_level=noise_level, random_state=0)\n\nestimator = PeakLocking(fs=fs, low_fq=low_fq, low_fq_width=2.0, t_plot=t_plot)\nestimator.fit(signal)\nestimator.plot()\n\nestimator = PeakLocking(fs=fs, low_fq=low_fq, low_fq_width=0.5, t_plot=t_plot)\nestimator.fit(signal)\nestimator.plot()\n\nplt.show()"
      ],
      "execution_count": null,
      "metadata": {
        "collapsed": false
      },
      "cell_type": "code"
    }
  ],
  "metadata": {
    "kernelspec": {
      "language": "python",
      "name": "python3",
      "display_name": "Python 3"
    },
    "language_info": {
      "codemirror_mode": {
        "version": 3,
        "name": "ipython"
      },
      "file_extension": ".py",
      "version": "3.5.2",
      "pygments_lexer": "ipython3",
      "name": "python",
      "mimetype": "text/x-python",
      "nbconvert_exporter": "python"
    }
  },
  "nbformat_minor": 0
}