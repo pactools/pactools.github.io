{
  "nbformat": 4,
  "cells": [
    {
      "source": [
        "%matplotlib inline"
      ],
      "metadata": {
        "collapsed": false
      },
      "cell_type": "code",
      "outputs": [],
      "execution_count": null
    },
    {
      "source": [
        "\nPeak-locking\n------------\nThe peaks are extracted from the low frequency band, then both the raw-signal\nand a time-frequency representation are peak-locked and averaged.\n\nNote the effect of the bandwidth `low_fq_width` on the number of\noscillations in the results.\n\n"
      ],
      "cell_type": "markdown",
      "metadata": {}
    },
    {
      "source": [
        "import matplotlib.pyplot as plt\n\nfrom pactools import PeakLocking\nfrom pactools import simulate_pac\n\nfs = 200.  # Hz\nhigh_fq = 50.0  # Hz\nlow_fq = 3.0  # Hz\nlow_fq_width = 2.0  # Hz\n\nn_points = 10000\nnoise_level = 0.4\nt_plot = 2.0  # sec\n\nsignal = simulate_pac(n_points=n_points, fs=fs, high_fq=high_fq, low_fq=low_fq,\n                      low_fq_width=low_fq_width, noise_level=noise_level,\n                      random_state=0)\n\nestimator = PeakLocking(fs=fs, low_fq=low_fq, low_fq_width=2.0, t_plot=t_plot)\nestimator.fit(signal)\nestimator.plot()\n\nestimator = PeakLocking(fs=fs, low_fq=low_fq, low_fq_width=0.5, t_plot=t_plot)\nestimator.fit(signal)\nestimator.plot()\n\nplt.show()"
      ],
      "metadata": {
        "collapsed": false
      },
      "cell_type": "code",
      "outputs": [],
      "execution_count": null
    }
  ],
  "nbformat_minor": 0,
  "metadata": {
    "kernelspec": {
      "language": "python",
      "name": "python3",
      "display_name": "Python 3"
    },
    "language_info": {
      "mimetype": "text/x-python",
      "pygments_lexer": "ipython3",
      "codemirror_mode": {
        "name": "ipython",
        "version": 3
      },
      "nbconvert_exporter": "python",
      "name": "python",
      "file_extension": ".py",
      "version": "3.5.2"
    }
  }
}