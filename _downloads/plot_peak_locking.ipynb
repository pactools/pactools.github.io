{
  "nbformat": 4,
  "nbformat_minor": 0,
  "metadata": {
    "kernelspec": {
      "name": "python3",
      "display_name": "Python 3",
      "language": "python"
    },
    "language_info": {
      "pygments_lexer": "ipython3",
      "mimetype": "text/x-python",
      "codemirror_mode": {
        "name": "ipython",
        "version": 3
      },
      "file_extension": ".py",
      "nbconvert_exporter": "python",
      "name": "python",
      "version": "3.5.2"
    }
  },
  "cells": [
    {
      "source": [
        "%matplotlib inline"
      ],
      "cell_type": "code",
      "metadata": {
        "collapsed": false
      },
      "outputs": [],
      "execution_count": null
    },
    {
      "source": [
        "\nExample of peak-locking\n-----------------------\nThe peaks are extracted from the low frequency band, then both the raw-signal\nand a time-frequency representation are peak-locked and averaged.\n\nNote the effect of the bandwidth `low_fq_width` on the number of\noscillations in the results.\n\n"
      ],
      "cell_type": "markdown",
      "metadata": {}
    },
    {
      "source": [
        "import matplotlib.pyplot as plt\n\nfrom pactools import PeakLocking\nfrom pactools import create_signal\n\nfs = 200.  # Hz\nhigh_fq = 50.0  # Hz\nlow_fq = 3.0  # Hz\nlow_fq_width = 2.0  # Hz\n\nn_points = 10000\nnoise_level = 0.4\nt_plot = 2.0  # sec\n\nsignal = create_signal(n_points=n_points, fs=fs, high_fq=high_fq,\n                       low_fq=low_fq, low_fq_width=low_fq_width,\n                       noise_level=noise_level, random_state=0)\n\nestimator = PeakLocking(fs=fs, low_fq=low_fq, low_fq_width=2.0, t_plot=t_plot)\nestimator.fit(signal)\nestimator.plot()\n\nestimator = PeakLocking(fs=fs, low_fq=low_fq, low_fq_width=0.5, t_plot=t_plot)\nestimator.fit(signal)\nestimator.plot()\n\nplt.show()"
      ],
      "cell_type": "code",
      "metadata": {
        "collapsed": false
      },
      "outputs": [],
      "execution_count": null
    }
  ]
}