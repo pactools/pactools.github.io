{
  "cells": [
    {
      "cell_type": "code",
      "outputs": [],
      "metadata": {
        "collapsed": false
      },
      "source": [
        "%matplotlib inline"
      ],
      "execution_count": null
    },
    {
      "cell_type": "markdown",
      "metadata": {},
      "source": [
        "\nExample of peak-locking\n-----------------------\nThe peaks are extracted from the low frequency band, then both the raw-signal\nand a time-frequency representation are peak-locked and averaged.\n\nNote the effect of the bandwidth `low_fq_width` on the number of\noscillations in the results.\n\n"
      ]
    },
    {
      "cell_type": "code",
      "outputs": [],
      "metadata": {
        "collapsed": false
      },
      "source": [
        "import matplotlib.pyplot as plt\n\nfrom pactools import PeakLocking\nfrom pactools import create_signal\n\nfs = 200.  # Hz\nhigh_fq = 50.0  # Hz\nlow_fq = 3.0  # Hz\nlow_fq_width = 2.0  # Hz\n\nn_points = 10000\nnoise_level = 0.4\nt_plot = 2.0  # sec\n\nsignal = create_signal(n_points=n_points, fs=fs, high_fq=high_fq,\n                       low_fq=low_fq, low_fq_width=low_fq_width,\n                       noise_level=noise_level, random_state=0)\n\nestimator = PeakLocking(fs=fs, low_fq=low_fq, low_fq_width=2.0, t_plot=t_plot)\nestimator.fit(signal)\nestimator.plot()\n\nestimator = PeakLocking(fs=fs, low_fq=low_fq, low_fq_width=0.5, t_plot=t_plot)\nestimator.fit(signal)\nestimator.plot()\n\nplt.show()"
      ],
      "execution_count": null
    }
  ],
  "metadata": {
    "language_info": {
      "codemirror_mode": {
        "name": "ipython",
        "version": 3
      },
      "name": "python",
      "version": "3.5.2",
      "nbconvert_exporter": "python",
      "file_extension": ".py",
      "mimetype": "text/x-python",
      "pygments_lexer": "ipython3"
    },
    "kernelspec": {
      "language": "python",
      "name": "python3",
      "display_name": "Python 3"
    }
  },
  "nbformat": 4,
  "nbformat_minor": 0
}