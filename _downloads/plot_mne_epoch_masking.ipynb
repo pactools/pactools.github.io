{
  "cells": [
    {
      "cell_type": "code",
      "execution_count": null,
      "metadata": {
        "collapsed": false
      },
      "outputs": [],
      "source": [
        "%matplotlib inline"
      ]
    },
    {
      "cell_type": "markdown",
      "metadata": {},
      "source": [
        "\nInterface with MNE-python\n-------------------------\nThis example shows how to use this package with MNE-python.\n\nIt relies on the function ``raw_to_mask``, which takes as input a MNE.Raw\ninstance and an events array, and returns the corresponding input signals\nand masks for the ``Comodulogram.fit`` method.\n\nNote that this example is quite bad since it does not contain any\nphase-amplitude coupling. It is just an API example.\n\n"
      ]
    },
    {
      "cell_type": "code",
      "execution_count": null,
      "metadata": {
        "collapsed": false
      },
      "outputs": [],
      "source": [
        "import mne\nimport numpy as np\nimport matplotlib.pyplot as plt\n\nfrom pactools import raw_to_mask, Comodulogram"
      ]
    },
    {
      "cell_type": "markdown",
      "metadata": {},
      "source": [
        "load the dataset\n\n"
      ]
    },
    {
      "cell_type": "code",
      "execution_count": null,
      "metadata": {
        "collapsed": false
      },
      "outputs": [],
      "source": [
        "data_path = mne.datasets.sample.data_path()\nraw_fname = data_path + '/MEG/sample/sample_audvis_filt-0-40_raw.fif'\nevent_fname = data_path + ('/MEG/sample/sample_audvis_filt-0-40_raw-'\n                           'eve.fif')\nraw = mne.io.read_raw_fif(raw_fname, preload=True)\nevents = mne.read_events(event_fname)"
      ]
    },
    {
      "cell_type": "markdown",
      "metadata": {},
      "source": [
        "Define how to build the epochs\n\n"
      ]
    },
    {
      "cell_type": "code",
      "execution_count": null,
      "metadata": {
        "collapsed": false
      },
      "outputs": [],
      "source": [
        "# select the time interval around the events\ntmin, tmax = -5, 15\n# select the channels (phase_channel, amplitude_channel)\nixs = (8, 10)"
      ]
    },
    {
      "cell_type": "markdown",
      "metadata": {},
      "source": [
        "Create the inputs, the comodulogram instance, and fit it with the inputs\n\n"
      ]
    },
    {
      "cell_type": "code",
      "execution_count": null,
      "metadata": {
        "collapsed": false
      },
      "outputs": [],
      "source": [
        "# create the input array for Comodulogram.fit\nlow_sig, high_sig, mask = raw_to_mask(raw, ixs=ixs, events=events, tmin=tmin,\n                                      tmax=tmax)\n# create the instance of Comodulogram\nestimator = Comodulogram(fs=raw.info['sfreq'],\n                         low_fq_range=np.linspace(1, 10, 20), low_fq_width=2.,\n                         method='tort', progress_bar=True)\n# compute the comodulogram\nestimator.fit(low_sig, high_sig, mask)\n# plot the results\nestimator.plot(tight_layout=False)\nplt.show()"
      ]
    }
  ],
  "metadata": {
    "kernelspec": {
      "display_name": "Python 3",
      "language": "python",
      "name": "python3"
    },
    "language_info": {
      "codemirror_mode": {
        "name": "ipython",
        "version": 3
      },
      "file_extension": ".py",
      "mimetype": "text/x-python",
      "name": "python",
      "nbconvert_exporter": "python",
      "pygments_lexer": "ipython3",
      "version": "3.6.1"
    }
  },
  "nbformat": 4,
  "nbformat_minor": 0
}