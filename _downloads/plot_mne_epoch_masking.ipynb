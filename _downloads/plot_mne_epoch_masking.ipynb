{
  "nbformat_minor": 0,
  "nbformat": 4,
  "metadata": {
    "language_info": {
      "pygments_lexer": "ipython3",
      "codemirror_mode": {
        "version": 3,
        "name": "ipython"
      },
      "name": "python",
      "mimetype": "text/x-python",
      "file_extension": ".py",
      "version": "3.5.2",
      "nbconvert_exporter": "python"
    },
    "kernelspec": {
      "name": "python3",
      "language": "python",
      "display_name": "Python 3"
    }
  },
  "cells": [
    {
      "outputs": [],
      "source": [
        "%matplotlib inline"
      ],
      "execution_count": null,
      "metadata": {
        "collapsed": false
      },
      "cell_type": "code"
    },
    {
      "source": [
        "\nInterface with MNE-python\n-------------------------\nThis example shows how to use this package with MNE-python.\n\nIt relies on the function ``raw_to_mask``, which takes as input a MNE.Raw\ninstance and an events array, and returns the corresponding input signals\nand masks for the ``Comodulogram.fit`` method.\n\nNote that this example is quite bad since it does not contain any\nphase-amplitude coupling. It is just an API example.\n\n"
      ],
      "metadata": {},
      "cell_type": "markdown"
    },
    {
      "outputs": [],
      "source": [
        "import mne\nimport numpy as np\nimport matplotlib.pyplot as plt\n\nfrom pactools import raw_to_mask, Comodulogram\n\n# load the dataset\ndata_path = mne.datasets.sample.data_path()\nraw_fname = data_path + '/MEG/sample/sample_audvis_filt-0-40_raw.fif'\nevent_fname = data_path + ('/MEG/sample/sample_audvis_filt-0-40_raw-'\n                           'eve.fif')\nraw = mne.io.read_raw_fif(raw_fname, preload=True)\nevents = mne.read_events(event_fname)\n\n# select the time interval around the events\ntmin, tmax = -5, 15\n# select the channels (phase_channel, amplitude_channel)\nixs = (8, 10)\n\n# create the input array for Comodulogram.fit\nlow_sig, high_sig, mask = raw_to_mask(raw, ixs=ixs, events=events, tmin=tmin,\n                                      tmax=tmax)\n# create the instance of Comodulogram\nestimator = Comodulogram(fs=raw.info['sfreq'],\n                         low_fq_range=np.linspace(1, 10, 20), low_fq_width=2.,\n                         method='tort', progress_bar=True)\n# compute the comodulogram\nestimator.fit(low_sig, high_sig, mask)\n# plot the results\nestimator.plot(tight_layout=False)\nplt.show()"
      ],
      "execution_count": null,
      "metadata": {
        "collapsed": false
      },
      "cell_type": "code"
    }
  ]
}