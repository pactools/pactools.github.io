{
  "cells": [
    {
      "cell_type": "code",
      "execution_count": null,
      "metadata": {
        "collapsed": false
      },
      "outputs": [],
      "source": [
        "%matplotlib inline"
      ]
    },
    {
      "cell_type": "markdown",
      "metadata": {},
      "source": [
        "\nPhase shift and temporal delay in PAC\n-------------------------------------\n\nThis example disantangles the two distinct notions of phase shift and temporal\ndelay in phase-amplitude coupling. The phase shift ($\\phi$) is the phase of the\nslow oscillation which corresponds to the maximum amplitude of the fast\noscillation. The temporal delay ($\\tau$) is the delay between the two coupled\ncomponents. The two notions would be identical should the driver be a perfect\nstationary sinusoid.\n\n(1st line) When both are equal to zero, the high frequency bursts happen in\nthe driver's peaks.\n\n(2nd line) When $\\tau = 0$ and $\\phi != 0$, the bursts are shifted in time with\nrespect to the driver's peaks, and this shift varies depending on the\ninstantaneous frequency of the driver.\n\n(3rd line) When $\\tau != 0$ and $\\phi = 0$, the bursts are shifted in time with\nrespect to the driver's peaks, and this shift is constant over the signal. In\nthis case, note how the driver's phase corresponding to the bursts varies\ndepending on the instantaneous frequency of the driver.\n\n(4th line) Both $\\tau$ and $\\phi$ can also be both non-zero.\n\nThe temporal delay is estimated maximizing the likelihood on DAR models.\nThe phase shift is extracted from a DAR model fitted with the optimal\ntemporal delay.\n\nReferences\n==========\nDupre la Tour et al. (2017). Non-linear Auto-Regressive Models for\nCross-Frequency Coupling in Neural Time Series. bioRxiv, 159731.\n"
      ]
    },
    {
      "cell_type": "code",
      "execution_count": null,
      "metadata": {
        "collapsed": false
      },
      "outputs": [],
      "source": [
        "import numpy as np\nimport matplotlib.pyplot as plt\n\nfrom pactools.dar_model import DAR\nfrom pactools.utils import peak_finder\nfrom pactools.utils.viz import phase_string, SEABORN_PALETTES, set_style\nfrom pactools.delay_estimator import DelayEstimator\n\nplt.close('all')\nset_style(font_scale=1.4)\nblue, green, red, purple, yellow, cyan = SEABORN_PALETTES['deep']\n\nfs = 500.  # Hz\nhigh_fq = 80.0  # Hz\nlow_fq = 3.0  # Hz\nlow_fq_mod_fq = 0.5  # Hz\nplot_fq_range = [40., 120.]  # Hz\n\nbandwidth = 2.0  # Hz\n\nhigh_fq_amp = 0.5\nlow_fq_mod_amp = 3.0\n\nratio = 1. / 6.\nphi_0 = -2 * np.pi * ratio\ndelay = -1. / low_fq * ratio\noffset = -1.\nsharpness = 5.\nnoise_level = 0.1\n\nn_points = 30000\nt_plot = 1.  # sec\n\n\ndef sigmoid(array, sharpness):\n    return 1. / (1. + np.exp(-sharpness * array))\n\n\ndef clean_peak_finder(sig):\n    \"\"\"Remove first peak if it is at t=0\"\"\"\n    peak_inds, _ = peak_finder(sig, thresh=None, extrema=1)\n    if peak_inds[0] == 0:\n        peak_inds = peak_inds[1:]\n    return peak_inds\n\n\ndef simulate_and_plot(phi_0, delay, ax, rng):\n    \"\"\"Simulate oscillations with frequency modulation\"\"\"\n    # create the slow oscillations\n    time = np.arange(n_points) / fs\n    phase = time * 2 * np.pi * low_fq + np.pi / 2\n    # add frequency modulation\n    phase += low_fq_mod_amp * np.sin(time * 2 * np.pi * low_fq_mod_fq)\n    theta = np.cos(phase)\n\n    # add the fast oscillations\n    gamma = np.cos(time * 2 * np.pi * high_fq)\n    modulation = sigmoid(offset + np.cos(phase - phi_0),\n                         sharpness) * high_fq_amp\n    gamma *= modulation\n\n    # add a delay\n    delay_point = int(delay * fs)\n    gamma = np.roll(gamma, delay_point)\n    modulation = np.roll(modulation, delay_point)\n\n    # plot the beginning of the signal\n    sel = slice(int(t_plot * fs) + 1)\n    lines_theta = ax.plot(time[sel], theta[sel])\n    ax.plot(time[sel], gamma[sel])\n    lines_modulation = ax.plot(time[sel], modulation[sel])\n\n    # plot the horizontal line of phi_0\n    if delay == 0 and False:\n        ax.hlines(\n            np.cos(-phi_0), time[sel][0], time[sel][-1], color='k',\n            linestyle='--')\n\n    gamma_peak_inds = clean_peak_finder(modulation[sel])\n    theta_peak_inds = clean_peak_finder(theta[sel])\n    cosph_peak_inds = clean_peak_finder(np.cos(phase - phi_0)[sel])\n\n    # plot the vertical lines of the maximum amplitude\n    ax.vlines(time[sel][gamma_peak_inds], -1, 1, color='k', linestyle='--')\n\n    # fill vertical intervals between start_idx and stop_idx\n    start_idx = gamma_peak_inds\n    stop_idx = cosph_peak_inds\n    fill_zone = np.zeros_like(time[sel])\n    fill_zone[np.minimum(np.maximum(start_idx, 0), sel.stop - 1)] += 1\n    fill_zone[np.minimum(np.maximum(stop_idx, 0), sel.stop - 1)] += -1\n    ax.fill_between(time[sel], -1, 1, where=np.cumsum(fill_zone) != 0,\n                    color=cyan, alpha=0.5)\n\n    # add annotations\n    if delay != 0:\n        for start, stop in zip(start_idx, stop_idx):\n            middle = 0.7 * time[sel][start] + 0.3 * time[sel][stop]\n            ax.annotate(r\"$\\tau_0$\", (middle, -1), xycoords='data')\n    if phi_0 != 0:\n        # ax.annotate(r\"$\\cos(\\phi_0)$\", (0, np.cos(phi_0)), xycoords='data')\n        ticks = [-1, 0, np.cos(phi_0), 1]\n        ticklabels = ['-1', '0', r'$\\cos(\\phi_0)$', '1']\n        ax.set_yticks(ticks)\n        ax.set_yticklabels(ticklabels)\n\n    # fill the horizontal interval between cos(phi_0) and 1\n    ax.fill_between(time[sel], np.cos(phi_0), 1, color=cyan, alpha=0.5)\n    # plot the squares of the theta peaks\n    ax.plot(time[sel][theta_peak_inds], theta[sel][theta_peak_inds], 's',\n            color=lines_theta[0].get_color())\n    # plot the circles of maximum gamma amplitude\n    ax.plot(time[sel][gamma_peak_inds], modulation[sel][gamma_peak_inds], 'o',\n            color=lines_modulation[0].get_color())\n\n    ax.set_xlim([0, t_plot])\n    ax.set_xlabel('Time (s)')\n    ax.text(0.99, 0.22, r'$\\phi_0 = %s$' % (phase_string(phi_0), ),\n            horizontalalignment='right', transform=ax.transAxes)\n    ax.text(0.99, 0.08, r'$\\tau_0 = %.0f \\;\\mathrm{ms}$' % (delay * 1000, ),\n            horizontalalignment='right', transform=ax.transAxes)\n\n    return theta + gamma + noise_level * rng.randn(*gamma.shape)\n\n\ndef fit_dar_and_plot(sig, ax_logl, ax_phase, phi_0, random_state=None):\n    dar_model = DAR(ordar=10, ordriv=2)\n    est = DelayEstimator(fs, dar_model=dar_model, low_fq=low_fq,\n                         low_fq_width=bandwidth,\n                         random_state=random_state)\n    est.fit(sig)\n    est.plot(ax=ax_logl)\n\n    # plot the modulation of the best model\n    est.best_model_.plot(ax=ax_phase, mode='c', frange=plot_fq_range)\n\n    ax_phase.set_title('')\n    ticks = [-np.pi, phi_0, np.pi]\n    ax_phase.set_xticks(ticks)\n    ax_phase.set_xticklabels([r'$%s$' % phase_string(d) for d in ticks])\n    ax_phase.grid('on')\n    ax_phase.grid(color=(0.5, 0.5, 0.5))\n\n\n# initialize the plots\nrng = np.random.RandomState(3)\nfig, axs = plt.subplots(4, 3, figsize=(18, 12),\n                        gridspec_kw={'width_ratios': [3, 1, 1]})\n\n# loop over the four conditions\nfor phi_0_, delay_, axs_ in zip([0, phi_0, 0, phi_0], [0, 0, delay, delay],\n                                axs):\n    sig = simulate_and_plot(phi_0=phi_0_, delay=delay_, ax=axs_[0], rng=rng)\n    fit_dar_and_plot(sig, axs_[1], axs_[2], phi_0=phi_0_, random_state=rng)\n\nplt.tight_layout()\nplt.show()"
      ]
    }
  ],
  "metadata": {
    "kernelspec": {
      "display_name": "Python 3",
      "language": "python",
      "name": "python3"
    },
    "language_info": {
      "codemirror_mode": {
        "name": "ipython",
        "version": 3
      },
      "file_extension": ".py",
      "mimetype": "text/x-python",
      "name": "python",
      "nbconvert_exporter": "python",
      "pygments_lexer": "ipython3",
      "version": "3.8.1"
    }
  },
  "nbformat": 4,
  "nbformat_minor": 0
}